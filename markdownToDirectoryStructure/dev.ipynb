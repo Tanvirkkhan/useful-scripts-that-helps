{
 "cells": [
  {
   "cell_type": "code",
   "execution_count": 30,
   "metadata": {},
   "outputs": [
    {
     "name": "stdout",
     "output_type": "stream",
     "text": [
      "['ali-abdaal', 'learn.md', 'andrej-technical-history-of-transformer.md', '.DS_Store', 'mind-dump.md', 'one-round-of attention.py', '16 july.md', 'cinepunch-list.txt', 'stand-up.md', '6th aug, 2023.md', 'zsh-and-bash', 'md-files2dir', 'm-old.txt', 'things-to-learn.md', 'git.md', 'prompts', 'geohot-cs-course.md', 'file-structure.md', '.git', 'andrej-technical-testing-testing.md', '.vscode', 'routine.md', '3-aug.md', 'andrej-routine.md', 'andrej-technical-testing.md', '4th aug, 2023.md', 'mind-dump.pages', '8-aug-todos.md']\n"
     ]
    }
   ],
   "source": [
    "import os\n",
    "import shutil\n",
    "# dir = os.path.dirname(__file__)\n",
    "dir = '/Users/tanvirkhan/Desktop/notes/note'\n",
    "\n",
    "dir2 = '/Users/tanvirkhan/Desktop/notes/note/md-files2dir'\n",
    "\n",
    "all_files = os.listdir(dir)\n",
    "print(all_files)\n"
   ]
  },
  {
   "cell_type": "markdown",
   "metadata": {},
   "source": [
    "1. make a directory for similer files with the same starting name till dilimiter '-'\n",
    "2. if there is multiple '-' then it will take the first one as root directory name and rest will be sub directory name till the last '-'\n",
    "3. if there is no '-' then it will take the whole file name as root directory name with out '.md' extension\n",
    "4. for example: if there is a file named 'python-1.md' then it will create a directory named 'python' and put the file 'python-1.md' inside it\n",
    "5. if there is a file named 'python-subpython-1.md' then it will create a directory named 'python' first as root and then creat a sub folder named 'subpython' and put the file 'python-subpython-1.md' inside it"
   ]
  },
  {
   "cell_type": "code",
   "execution_count": 55,
   "metadata": {},
   "outputs": [
    {
     "name": "stdout",
     "output_type": "stream",
     "text": [
      "learn.md\n",
      "learn\n",
      "learn\n",
      "/Users/tanvirkhan/Desktop/notes/note/md-files2dir/learn\n",
      "andrej-technical-history-of-transformer.md\n",
      "andrej-technical-history-of-transformer\n",
      "['andrej', 'technical', 'history', 'of', 'transformer']\n",
      "/Users/tanvirkhan/Desktop/notes/note/md-files2dir/andrej\n",
      "/Users/tanvirkhan/Desktop/notes/note/md-files2dir/andrej/technical\n",
      "/Users/tanvirkhan/Desktop/notes/note/md-files2dir/andrej/technical/history\n",
      "/Users/tanvirkhan/Desktop/notes/note/md-files2dir/andrej/technical/history/of\n",
      "what is this/Users/tanvirkhan/Desktop/notes/note/md-files2dir/andrej/technical/history/of\n",
      "copying /Users/tanvirkhan/Desktop/notes/note/andrej-technical-history-of-transformer.md to /Users/tanvirkhan/Desktop/notes/note/md-files2dir/andrej/technical/history/of\n",
      "mind-dump.md\n",
      "mind-dump\n",
      "['mind', 'dump']\n",
      "/Users/tanvirkhan/Desktop/notes/note/md-files2dir/mind\n",
      "what is this/Users/tanvirkhan/Desktop/notes/note/md-files2dir/mind\n",
      "copying /Users/tanvirkhan/Desktop/notes/note/mind-dump.md to /Users/tanvirkhan/Desktop/notes/note/md-files2dir/mind\n",
      "16 july.md\n",
      "16 july\n",
      "16 july\n",
      "/Users/tanvirkhan/Desktop/notes/note/md-files2dir/16 july\n",
      "stand-up.md\n",
      "stand-up\n",
      "['stand', 'up']\n",
      "/Users/tanvirkhan/Desktop/notes/note/md-files2dir/stand\n",
      "what is this/Users/tanvirkhan/Desktop/notes/note/md-files2dir/stand\n",
      "copying /Users/tanvirkhan/Desktop/notes/note/stand-up.md to /Users/tanvirkhan/Desktop/notes/note/md-files2dir/stand\n",
      "6th aug, 2023.md\n",
      "6th aug, 2023\n",
      "6th aug, 2023\n",
      "/Users/tanvirkhan/Desktop/notes/note/md-files2dir/6th aug, 2023\n",
      "things-to-learn.md\n",
      "things-to-learn\n",
      "['things', 'to', 'learn']\n",
      "/Users/tanvirkhan/Desktop/notes/note/md-files2dir/things\n",
      "/Users/tanvirkhan/Desktop/notes/note/md-files2dir/things/to\n",
      "what is this/Users/tanvirkhan/Desktop/notes/note/md-files2dir/things/to\n",
      "copying /Users/tanvirkhan/Desktop/notes/note/things-to-learn.md to /Users/tanvirkhan/Desktop/notes/note/md-files2dir/things/to\n",
      "git.md\n",
      "git\n",
      "git\n",
      "/Users/tanvirkhan/Desktop/notes/note/md-files2dir/git\n",
      "geohot-cs-course.md\n",
      "geohot-cs-course\n",
      "['geohot', 'cs', 'course']\n",
      "/Users/tanvirkhan/Desktop/notes/note/md-files2dir/geohot\n",
      "/Users/tanvirkhan/Desktop/notes/note/md-files2dir/geohot/cs\n",
      "what is this/Users/tanvirkhan/Desktop/notes/note/md-files2dir/geohot/cs\n",
      "copying /Users/tanvirkhan/Desktop/notes/note/geohot-cs-course.md to /Users/tanvirkhan/Desktop/notes/note/md-files2dir/geohot/cs\n",
      "file-structure.md\n",
      "file-structure\n",
      "['file', 'structure']\n",
      "/Users/tanvirkhan/Desktop/notes/note/md-files2dir/file\n",
      "what is this/Users/tanvirkhan/Desktop/notes/note/md-files2dir/file\n",
      "copying /Users/tanvirkhan/Desktop/notes/note/file-structure.md to /Users/tanvirkhan/Desktop/notes/note/md-files2dir/file\n",
      "andrej-technical-testing-testing.md\n",
      "andrej-technical-testing-testing\n",
      "['andrej', 'technical', 'testing', 'testing']\n",
      "/Users/tanvirkhan/Desktop/notes/note/md-files2dir/andrej\n",
      "/Users/tanvirkhan/Desktop/notes/note/md-files2dir/andrej/technical\n",
      "/Users/tanvirkhan/Desktop/notes/note/md-files2dir/andrej/technical/testing\n",
      "what is this/Users/tanvirkhan/Desktop/notes/note/md-files2dir/andrej/technical/testing\n",
      "copying /Users/tanvirkhan/Desktop/notes/note/andrej-technical-testing-testing.md to /Users/tanvirkhan/Desktop/notes/note/md-files2dir/andrej/technical/testing\n",
      "routine.md\n",
      "routine\n",
      "routine\n",
      "/Users/tanvirkhan/Desktop/notes/note/md-files2dir/routine\n",
      "3-aug.md\n",
      "3-aug\n",
      "['3', 'aug']\n",
      "/Users/tanvirkhan/Desktop/notes/note/md-files2dir/3\n",
      "what is this/Users/tanvirkhan/Desktop/notes/note/md-files2dir/3\n",
      "copying /Users/tanvirkhan/Desktop/notes/note/3-aug.md to /Users/tanvirkhan/Desktop/notes/note/md-files2dir/3\n",
      "andrej-routine.md\n",
      "andrej-routine\n",
      "['andrej', 'routine']\n",
      "/Users/tanvirkhan/Desktop/notes/note/md-files2dir/andrej\n",
      "what is this/Users/tanvirkhan/Desktop/notes/note/md-files2dir/andrej\n",
      "copying /Users/tanvirkhan/Desktop/notes/note/andrej-routine.md to /Users/tanvirkhan/Desktop/notes/note/md-files2dir/andrej\n",
      "andrej-technical-testing.md\n",
      "andrej-technical-testing\n",
      "['andrej', 'technical', 'testing']\n",
      "/Users/tanvirkhan/Desktop/notes/note/md-files2dir/andrej\n",
      "/Users/tanvirkhan/Desktop/notes/note/md-files2dir/andrej/technical\n",
      "what is this/Users/tanvirkhan/Desktop/notes/note/md-files2dir/andrej/technical\n",
      "copying /Users/tanvirkhan/Desktop/notes/note/andrej-technical-testing.md to /Users/tanvirkhan/Desktop/notes/note/md-files2dir/andrej/technical\n",
      "4th aug, 2023.md\n",
      "4th aug, 2023\n",
      "4th aug, 2023\n",
      "/Users/tanvirkhan/Desktop/notes/note/md-files2dir/4th aug, 2023\n",
      "8-aug-todos.md\n",
      "8-aug-todos\n",
      "['8', 'aug', 'todos']\n",
      "/Users/tanvirkhan/Desktop/notes/note/md-files2dir/8\n",
      "/Users/tanvirkhan/Desktop/notes/note/md-files2dir/8/aug\n",
      "what is this/Users/tanvirkhan/Desktop/notes/note/md-files2dir/8/aug\n",
      "copying /Users/tanvirkhan/Desktop/notes/note/8-aug-todos.md to /Users/tanvirkhan/Desktop/notes/note/md-files2dir/8/aug\n"
     ]
    }
   ],
   "source": [
    "total_dir_list = []\n",
    "for file in all_files:\n",
    "    if file.endswith('.md'):\n",
    "        print(file)\n",
    "        original_file_path = os.path.join(dir, file)\n",
    "        file_name = file.split('.')[0]\n",
    "        print(file_name)\n",
    "        if '-' in file_name:\n",
    "            file_name = file_name.split('-')\n",
    "            print(file_name)\n",
    "            # file_path = os.path.join(dir2, file_name[0])\n",
    "            # print(file_path)\n",
    "            for i in range(len(file_name)-1):\n",
    "                if i == 0:\n",
    "                    file_path = os.path.join(dir2, file_name[i])\n",
    "                    print(file_path)\n",
    "                    total_dir_list.append(file_path)\n",
    "                    if not os.path.exists(file_path):\n",
    "                        os.mkdir(file_path)\n",
    "                        total_dir_list.append(file_path)\n",
    "                else:\n",
    "                    file_path = os.path.join(file_path, file_name[i])\n",
    "                    print(file_path)\n",
    "                    total_dir_list.append(file_path)\n",
    "                    if not os.path.exists(file_path):\n",
    "                        os.mkdir(file_path)\n",
    "            print(f'what is this{file_path}')\n",
    "            print(f'copying {original_file_path} to {file_path}')\n",
    "            shutil.copy2(original_file_path, file_path)\n",
    "        else:\n",
    "            print(file_name)\n",
    "            file_path = os.path.join(dir2, file_name)\n",
    "            total_dir_list.append(file_path)\n",
    "            print(file_path)\n",
    "            if not os.path.exists(file_path):\n",
    "                os.mkdir(file_path)\n",
    "            shutil.copy2(original_file_path, file_path)           "
   ]
  },
  {
   "cell_type": "code",
   "execution_count": 38,
   "metadata": {},
   "outputs": [
    {
     "data": {
      "text/plain": [
       "(26,\n",
       " ['/Users/tanvirkhan/Desktop/notes/note/md-files2dir/learn',\n",
       "  '/Users/tanvirkhan/Desktop/notes/note/md-files2dir/andrej',\n",
       "  '/Users/tanvirkhan/Desktop/notes/note/md-files2dir/andrej/technical',\n",
       "  '/Users/tanvirkhan/Desktop/notes/note/md-files2dir/andrej/technical/history',\n",
       "  '/Users/tanvirkhan/Desktop/notes/note/md-files2dir/andrej/technical/history/of',\n",
       "  '/Users/tanvirkhan/Desktop/notes/note/md-files2dir/mind',\n",
       "  '/Users/tanvirkhan/Desktop/notes/note/md-files2dir/16 july',\n",
       "  '/Users/tanvirkhan/Desktop/notes/note/md-files2dir/stand',\n",
       "  '/Users/tanvirkhan/Desktop/notes/note/md-files2dir/6th aug, 2023',\n",
       "  '/Users/tanvirkhan/Desktop/notes/note/md-files2dir/things',\n",
       "  '/Users/tanvirkhan/Desktop/notes/note/md-files2dir/things/to',\n",
       "  '/Users/tanvirkhan/Desktop/notes/note/md-files2dir/git',\n",
       "  '/Users/tanvirkhan/Desktop/notes/note/md-files2dir/geohot',\n",
       "  '/Users/tanvirkhan/Desktop/notes/note/md-files2dir/geohot/cs',\n",
       "  '/Users/tanvirkhan/Desktop/notes/note/md-files2dir/file',\n",
       "  '/Users/tanvirkhan/Desktop/notes/note/md-files2dir/andrej',\n",
       "  '/Users/tanvirkhan/Desktop/notes/note/md-files2dir/andrej/technical',\n",
       "  '/Users/tanvirkhan/Desktop/notes/note/md-files2dir/andrej/technical/testing',\n",
       "  '/Users/tanvirkhan/Desktop/notes/note/md-files2dir/routine',\n",
       "  '/Users/tanvirkhan/Desktop/notes/note/md-files2dir/3',\n",
       "  '/Users/tanvirkhan/Desktop/notes/note/md-files2dir/andrej',\n",
       "  '/Users/tanvirkhan/Desktop/notes/note/md-files2dir/andrej',\n",
       "  '/Users/tanvirkhan/Desktop/notes/note/md-files2dir/andrej/technical',\n",
       "  '/Users/tanvirkhan/Desktop/notes/note/md-files2dir/4th aug, 2023',\n",
       "  '/Users/tanvirkhan/Desktop/notes/note/md-files2dir/8',\n",
       "  '/Users/tanvirkhan/Desktop/notes/note/md-files2dir/8/aug'])"
      ]
     },
     "execution_count": 38,
     "metadata": {},
     "output_type": "execute_result"
    }
   ],
   "source": [
    "len(total_dir_list), total_dir_list"
   ]
  },
  {
   "cell_type": "code",
   "execution_count": 71,
   "metadata": {},
   "outputs": [
    {
     "name": "stdout",
     "output_type": "stream",
     "text": [
      "['./andrej', './learn', './file', './routine', './6th aug, 2023', './8', './4th aug, 2023', './stand', './mind', './things', './geohot', './.git', './.vscode', './16 july', './3', './git', '/Users/tanvirkhan/Desktop/notes/note/md-files2dir/andrej/technical', '/Users/tanvirkhan/Desktop/notes/note/md-files2dir/andrej/technical/testing', '/Users/tanvirkhan/Desktop/notes/note/md-files2dir/andrej/technical/history', '/Users/tanvirkhan/Desktop/notes/note/md-files2dir/andrej/technical/history/of', '/Users/tanvirkhan/Desktop/notes/note/md-files2dir/8/aug', '/Users/tanvirkhan/Desktop/notes/note/md-files2dir/things/to', '/Users/tanvirkhan/Desktop/notes/note/md-files2dir/geohot/cs']\n"
     ]
    }
   ],
   "source": [
    "# list all the directories in the current directory\n",
    "dirs_here = []\n",
    "for root, dirs, files in os.walk(\".\"):\n",
    "    for name in dirs:\n",
    "        #dirs_here.append(name)\n",
    "        root=root.replace(\"./\",dir2+\"/\")\n",
    "        name=name.replace(\"./\",dir2+\"/\")\n",
    "        dirs_here.append(os.path.join(root, name))\n",
    "print(dirs_here)"
   ]
  },
  {
   "cell_type": "code",
   "execution_count": 64,
   "metadata": {},
   "outputs": [
    {
     "data": {
      "text/plain": [
       "23"
      ]
     },
     "execution_count": 64,
     "metadata": {},
     "output_type": "execute_result"
    }
   ],
   "source": [
    "len(dirs_here)"
   ]
  },
  {
   "cell_type": "code",
   "execution_count": 48,
   "metadata": {},
   "outputs": [
    {
     "name": "stdout",
     "output_type": "stream",
     "text": [
      "/Users/tanvirkhan/Desktop/notes/note/md-files2dir/.git\n",
      "/Users/tanvirkhan/Desktop/notes/note/md-files2dir/.vscode\n",
      "/Users/tanvirkhan/Desktop/notes/note/md-files2dir/technical\n",
      "/Users/tanvirkhan/Desktop/notes/note/md-files2dir/testing\n",
      "/Users/tanvirkhan/Desktop/notes/note/md-files2dir/history\n",
      "/Users/tanvirkhan/Desktop/notes/note/md-files2dir/of\n",
      "/Users/tanvirkhan/Desktop/notes/note/md-files2dir/aug\n",
      "/Users/tanvirkhan/Desktop/notes/note/md-files2dir/to\n",
      "/Users/tanvirkhan/Desktop/notes/note/md-files2dir/cs\n"
     ]
    }
   ],
   "source": [
    "# print the unmatched files for the list dir_here and total_dir_list\n",
    "for file in dirs_here:\n",
    "    if file not in total_dir_list:\n",
    "        print(file)"
   ]
  },
  {
   "cell_type": "code",
   "execution_count": 49,
   "metadata": {},
   "outputs": [
    {
     "name": "stdout",
     "output_type": "stream",
     "text": [
      "/Users/tanvirkhan/Desktop/notes/note/md-files2dir/andrej/technical\n",
      "/Users/tanvirkhan/Desktop/notes/note/md-files2dir/andrej/technical/history\n",
      "/Users/tanvirkhan/Desktop/notes/note/md-files2dir/andrej/technical/history/of\n",
      "/Users/tanvirkhan/Desktop/notes/note/md-files2dir/things/to\n",
      "/Users/tanvirkhan/Desktop/notes/note/md-files2dir/geohot/cs\n",
      "/Users/tanvirkhan/Desktop/notes/note/md-files2dir/andrej/technical\n",
      "/Users/tanvirkhan/Desktop/notes/note/md-files2dir/andrej/technical/testing\n",
      "/Users/tanvirkhan/Desktop/notes/note/md-files2dir/andrej/technical\n",
      "/Users/tanvirkhan/Desktop/notes/note/md-files2dir/8/aug\n"
     ]
    }
   ],
   "source": [
    "# print the unmatched files for the list dir_here and total_dir_list\n",
    "for file in total_dir_list:\n",
    "    if file not in dirs_here:\n",
    "        print(file)"
   ]
  },
  {
   "cell_type": "code",
   "execution_count": 52,
   "metadata": {},
   "outputs": [
    {
     "name": "stdout",
     "output_type": "stream",
     "text": [
      "/Users/tanvirkhan/Desktop/notes/note/md-files2dir/learn\n",
      "duplicate found\n",
      "removing duplicate\n",
      "['/Users/tanvirkhan/Desktop/notes/note/md-files2dir/andrej', '/Users/tanvirkhan/Desktop/notes/note/md-files2dir/andrej/technical', '/Users/tanvirkhan/Desktop/notes/note/md-files2dir/andrej/technical/history', '/Users/tanvirkhan/Desktop/notes/note/md-files2dir/andrej/technical/history/of', '/Users/tanvirkhan/Desktop/notes/note/md-files2dir/mind', '/Users/tanvirkhan/Desktop/notes/note/md-files2dir/16 july', '/Users/tanvirkhan/Desktop/notes/note/md-files2dir/stand', '/Users/tanvirkhan/Desktop/notes/note/md-files2dir/6th aug, 2023', '/Users/tanvirkhan/Desktop/notes/note/md-files2dir/things', '/Users/tanvirkhan/Desktop/notes/note/md-files2dir/things/to', '/Users/tanvirkhan/Desktop/notes/note/md-files2dir/git', '/Users/tanvirkhan/Desktop/notes/note/md-files2dir/geohot', '/Users/tanvirkhan/Desktop/notes/note/md-files2dir/geohot/cs', '/Users/tanvirkhan/Desktop/notes/note/md-files2dir/file', '/Users/tanvirkhan/Desktop/notes/note/md-files2dir/andrej', '/Users/tanvirkhan/Desktop/notes/note/md-files2dir/andrej/technical', '/Users/tanvirkhan/Desktop/notes/note/md-files2dir/andrej/technical/testing', '/Users/tanvirkhan/Desktop/notes/note/md-files2dir/routine', '/Users/tanvirkhan/Desktop/notes/note/md-files2dir/3', '/Users/tanvirkhan/Desktop/notes/note/md-files2dir/andrej', '/Users/tanvirkhan/Desktop/notes/note/md-files2dir/andrej', '/Users/tanvirkhan/Desktop/notes/note/md-files2dir/andrej/technical', '/Users/tanvirkhan/Desktop/notes/note/md-files2dir/4th aug, 2023', '/Users/tanvirkhan/Desktop/notes/note/md-files2dir/8', '/Users/tanvirkhan/Desktop/notes/note/md-files2dir/8/aug']\n",
      "/Users/tanvirkhan/Desktop/notes/note/md-files2dir/andrej/technical\n",
      "duplicate found\n",
      "removing duplicate\n",
      "['/Users/tanvirkhan/Desktop/notes/note/md-files2dir/andrej', '/Users/tanvirkhan/Desktop/notes/note/md-files2dir/andrej/technical/history', '/Users/tanvirkhan/Desktop/notes/note/md-files2dir/andrej/technical/history/of', '/Users/tanvirkhan/Desktop/notes/note/md-files2dir/mind', '/Users/tanvirkhan/Desktop/notes/note/md-files2dir/16 july', '/Users/tanvirkhan/Desktop/notes/note/md-files2dir/stand', '/Users/tanvirkhan/Desktop/notes/note/md-files2dir/6th aug, 2023', '/Users/tanvirkhan/Desktop/notes/note/md-files2dir/things', '/Users/tanvirkhan/Desktop/notes/note/md-files2dir/things/to', '/Users/tanvirkhan/Desktop/notes/note/md-files2dir/git', '/Users/tanvirkhan/Desktop/notes/note/md-files2dir/geohot', '/Users/tanvirkhan/Desktop/notes/note/md-files2dir/geohot/cs', '/Users/tanvirkhan/Desktop/notes/note/md-files2dir/file', '/Users/tanvirkhan/Desktop/notes/note/md-files2dir/andrej', '/Users/tanvirkhan/Desktop/notes/note/md-files2dir/andrej/technical', '/Users/tanvirkhan/Desktop/notes/note/md-files2dir/andrej/technical/testing', '/Users/tanvirkhan/Desktop/notes/note/md-files2dir/routine', '/Users/tanvirkhan/Desktop/notes/note/md-files2dir/3', '/Users/tanvirkhan/Desktop/notes/note/md-files2dir/andrej', '/Users/tanvirkhan/Desktop/notes/note/md-files2dir/andrej', '/Users/tanvirkhan/Desktop/notes/note/md-files2dir/andrej/technical', '/Users/tanvirkhan/Desktop/notes/note/md-files2dir/4th aug, 2023', '/Users/tanvirkhan/Desktop/notes/note/md-files2dir/8', '/Users/tanvirkhan/Desktop/notes/note/md-files2dir/8/aug']\n",
      "/Users/tanvirkhan/Desktop/notes/note/md-files2dir/andrej/technical/history/of\n",
      "duplicate found\n",
      "removing duplicate\n",
      "['/Users/tanvirkhan/Desktop/notes/note/md-files2dir/andrej', '/Users/tanvirkhan/Desktop/notes/note/md-files2dir/andrej/technical/history', '/Users/tanvirkhan/Desktop/notes/note/md-files2dir/mind', '/Users/tanvirkhan/Desktop/notes/note/md-files2dir/16 july', '/Users/tanvirkhan/Desktop/notes/note/md-files2dir/stand', '/Users/tanvirkhan/Desktop/notes/note/md-files2dir/6th aug, 2023', '/Users/tanvirkhan/Desktop/notes/note/md-files2dir/things', '/Users/tanvirkhan/Desktop/notes/note/md-files2dir/things/to', '/Users/tanvirkhan/Desktop/notes/note/md-files2dir/git', '/Users/tanvirkhan/Desktop/notes/note/md-files2dir/geohot', '/Users/tanvirkhan/Desktop/notes/note/md-files2dir/geohot/cs', '/Users/tanvirkhan/Desktop/notes/note/md-files2dir/file', '/Users/tanvirkhan/Desktop/notes/note/md-files2dir/andrej', '/Users/tanvirkhan/Desktop/notes/note/md-files2dir/andrej/technical', '/Users/tanvirkhan/Desktop/notes/note/md-files2dir/andrej/technical/testing', '/Users/tanvirkhan/Desktop/notes/note/md-files2dir/routine', '/Users/tanvirkhan/Desktop/notes/note/md-files2dir/3', '/Users/tanvirkhan/Desktop/notes/note/md-files2dir/andrej', '/Users/tanvirkhan/Desktop/notes/note/md-files2dir/andrej', '/Users/tanvirkhan/Desktop/notes/note/md-files2dir/andrej/technical', '/Users/tanvirkhan/Desktop/notes/note/md-files2dir/4th aug, 2023', '/Users/tanvirkhan/Desktop/notes/note/md-files2dir/8', '/Users/tanvirkhan/Desktop/notes/note/md-files2dir/8/aug']\n",
      "/Users/tanvirkhan/Desktop/notes/note/md-files2dir/16 july\n",
      "duplicate found\n",
      "removing duplicate\n",
      "['/Users/tanvirkhan/Desktop/notes/note/md-files2dir/andrej', '/Users/tanvirkhan/Desktop/notes/note/md-files2dir/andrej/technical/history', '/Users/tanvirkhan/Desktop/notes/note/md-files2dir/mind', '/Users/tanvirkhan/Desktop/notes/note/md-files2dir/stand', '/Users/tanvirkhan/Desktop/notes/note/md-files2dir/6th aug, 2023', '/Users/tanvirkhan/Desktop/notes/note/md-files2dir/things', '/Users/tanvirkhan/Desktop/notes/note/md-files2dir/things/to', '/Users/tanvirkhan/Desktop/notes/note/md-files2dir/git', '/Users/tanvirkhan/Desktop/notes/note/md-files2dir/geohot', '/Users/tanvirkhan/Desktop/notes/note/md-files2dir/geohot/cs', '/Users/tanvirkhan/Desktop/notes/note/md-files2dir/file', '/Users/tanvirkhan/Desktop/notes/note/md-files2dir/andrej', '/Users/tanvirkhan/Desktop/notes/note/md-files2dir/andrej/technical', '/Users/tanvirkhan/Desktop/notes/note/md-files2dir/andrej/technical/testing', '/Users/tanvirkhan/Desktop/notes/note/md-files2dir/routine', '/Users/tanvirkhan/Desktop/notes/note/md-files2dir/3', '/Users/tanvirkhan/Desktop/notes/note/md-files2dir/andrej', '/Users/tanvirkhan/Desktop/notes/note/md-files2dir/andrej', '/Users/tanvirkhan/Desktop/notes/note/md-files2dir/andrej/technical', '/Users/tanvirkhan/Desktop/notes/note/md-files2dir/4th aug, 2023', '/Users/tanvirkhan/Desktop/notes/note/md-files2dir/8', '/Users/tanvirkhan/Desktop/notes/note/md-files2dir/8/aug']\n",
      "/Users/tanvirkhan/Desktop/notes/note/md-files2dir/6th aug, 2023\n",
      "duplicate found\n",
      "removing duplicate\n",
      "['/Users/tanvirkhan/Desktop/notes/note/md-files2dir/andrej', '/Users/tanvirkhan/Desktop/notes/note/md-files2dir/andrej/technical/history', '/Users/tanvirkhan/Desktop/notes/note/md-files2dir/mind', '/Users/tanvirkhan/Desktop/notes/note/md-files2dir/stand', '/Users/tanvirkhan/Desktop/notes/note/md-files2dir/things', '/Users/tanvirkhan/Desktop/notes/note/md-files2dir/things/to', '/Users/tanvirkhan/Desktop/notes/note/md-files2dir/git', '/Users/tanvirkhan/Desktop/notes/note/md-files2dir/geohot', '/Users/tanvirkhan/Desktop/notes/note/md-files2dir/geohot/cs', '/Users/tanvirkhan/Desktop/notes/note/md-files2dir/file', '/Users/tanvirkhan/Desktop/notes/note/md-files2dir/andrej', '/Users/tanvirkhan/Desktop/notes/note/md-files2dir/andrej/technical', '/Users/tanvirkhan/Desktop/notes/note/md-files2dir/andrej/technical/testing', '/Users/tanvirkhan/Desktop/notes/note/md-files2dir/routine', '/Users/tanvirkhan/Desktop/notes/note/md-files2dir/3', '/Users/tanvirkhan/Desktop/notes/note/md-files2dir/andrej', '/Users/tanvirkhan/Desktop/notes/note/md-files2dir/andrej', '/Users/tanvirkhan/Desktop/notes/note/md-files2dir/andrej/technical', '/Users/tanvirkhan/Desktop/notes/note/md-files2dir/4th aug, 2023', '/Users/tanvirkhan/Desktop/notes/note/md-files2dir/8', '/Users/tanvirkhan/Desktop/notes/note/md-files2dir/8/aug']\n",
      "/Users/tanvirkhan/Desktop/notes/note/md-files2dir/things/to\n",
      "duplicate found\n",
      "removing duplicate\n",
      "['/Users/tanvirkhan/Desktop/notes/note/md-files2dir/andrej', '/Users/tanvirkhan/Desktop/notes/note/md-files2dir/andrej/technical/history', '/Users/tanvirkhan/Desktop/notes/note/md-files2dir/mind', '/Users/tanvirkhan/Desktop/notes/note/md-files2dir/stand', '/Users/tanvirkhan/Desktop/notes/note/md-files2dir/things', '/Users/tanvirkhan/Desktop/notes/note/md-files2dir/git', '/Users/tanvirkhan/Desktop/notes/note/md-files2dir/geohot', '/Users/tanvirkhan/Desktop/notes/note/md-files2dir/geohot/cs', '/Users/tanvirkhan/Desktop/notes/note/md-files2dir/file', '/Users/tanvirkhan/Desktop/notes/note/md-files2dir/andrej', '/Users/tanvirkhan/Desktop/notes/note/md-files2dir/andrej/technical', '/Users/tanvirkhan/Desktop/notes/note/md-files2dir/andrej/technical/testing', '/Users/tanvirkhan/Desktop/notes/note/md-files2dir/routine', '/Users/tanvirkhan/Desktop/notes/note/md-files2dir/3', '/Users/tanvirkhan/Desktop/notes/note/md-files2dir/andrej', '/Users/tanvirkhan/Desktop/notes/note/md-files2dir/andrej', '/Users/tanvirkhan/Desktop/notes/note/md-files2dir/andrej/technical', '/Users/tanvirkhan/Desktop/notes/note/md-files2dir/4th aug, 2023', '/Users/tanvirkhan/Desktop/notes/note/md-files2dir/8', '/Users/tanvirkhan/Desktop/notes/note/md-files2dir/8/aug']\n",
      "/Users/tanvirkhan/Desktop/notes/note/md-files2dir/geohot\n",
      "duplicate found\n",
      "removing duplicate\n",
      "['/Users/tanvirkhan/Desktop/notes/note/md-files2dir/andrej', '/Users/tanvirkhan/Desktop/notes/note/md-files2dir/andrej/technical/history', '/Users/tanvirkhan/Desktop/notes/note/md-files2dir/mind', '/Users/tanvirkhan/Desktop/notes/note/md-files2dir/stand', '/Users/tanvirkhan/Desktop/notes/note/md-files2dir/things', '/Users/tanvirkhan/Desktop/notes/note/md-files2dir/git', '/Users/tanvirkhan/Desktop/notes/note/md-files2dir/geohot/cs', '/Users/tanvirkhan/Desktop/notes/note/md-files2dir/file', '/Users/tanvirkhan/Desktop/notes/note/md-files2dir/andrej', '/Users/tanvirkhan/Desktop/notes/note/md-files2dir/andrej/technical', '/Users/tanvirkhan/Desktop/notes/note/md-files2dir/andrej/technical/testing', '/Users/tanvirkhan/Desktop/notes/note/md-files2dir/routine', '/Users/tanvirkhan/Desktop/notes/note/md-files2dir/3', '/Users/tanvirkhan/Desktop/notes/note/md-files2dir/andrej', '/Users/tanvirkhan/Desktop/notes/note/md-files2dir/andrej', '/Users/tanvirkhan/Desktop/notes/note/md-files2dir/andrej/technical', '/Users/tanvirkhan/Desktop/notes/note/md-files2dir/4th aug, 2023', '/Users/tanvirkhan/Desktop/notes/note/md-files2dir/8', '/Users/tanvirkhan/Desktop/notes/note/md-files2dir/8/aug']\n",
      "/Users/tanvirkhan/Desktop/notes/note/md-files2dir/file\n",
      "duplicate found\n",
      "removing duplicate\n",
      "['/Users/tanvirkhan/Desktop/notes/note/md-files2dir/andrej', '/Users/tanvirkhan/Desktop/notes/note/md-files2dir/andrej/technical/history', '/Users/tanvirkhan/Desktop/notes/note/md-files2dir/mind', '/Users/tanvirkhan/Desktop/notes/note/md-files2dir/stand', '/Users/tanvirkhan/Desktop/notes/note/md-files2dir/things', '/Users/tanvirkhan/Desktop/notes/note/md-files2dir/git', '/Users/tanvirkhan/Desktop/notes/note/md-files2dir/geohot/cs', '/Users/tanvirkhan/Desktop/notes/note/md-files2dir/andrej', '/Users/tanvirkhan/Desktop/notes/note/md-files2dir/andrej/technical', '/Users/tanvirkhan/Desktop/notes/note/md-files2dir/andrej/technical/testing', '/Users/tanvirkhan/Desktop/notes/note/md-files2dir/routine', '/Users/tanvirkhan/Desktop/notes/note/md-files2dir/3', '/Users/tanvirkhan/Desktop/notes/note/md-files2dir/andrej', '/Users/tanvirkhan/Desktop/notes/note/md-files2dir/andrej', '/Users/tanvirkhan/Desktop/notes/note/md-files2dir/andrej/technical', '/Users/tanvirkhan/Desktop/notes/note/md-files2dir/4th aug, 2023', '/Users/tanvirkhan/Desktop/notes/note/md-files2dir/8', '/Users/tanvirkhan/Desktop/notes/note/md-files2dir/8/aug']\n",
      "/Users/tanvirkhan/Desktop/notes/note/md-files2dir/andrej/technical\n",
      "duplicate found\n",
      "removing duplicate\n",
      "['/Users/tanvirkhan/Desktop/notes/note/md-files2dir/andrej', '/Users/tanvirkhan/Desktop/notes/note/md-files2dir/andrej/technical/history', '/Users/tanvirkhan/Desktop/notes/note/md-files2dir/mind', '/Users/tanvirkhan/Desktop/notes/note/md-files2dir/stand', '/Users/tanvirkhan/Desktop/notes/note/md-files2dir/things', '/Users/tanvirkhan/Desktop/notes/note/md-files2dir/git', '/Users/tanvirkhan/Desktop/notes/note/md-files2dir/geohot/cs', '/Users/tanvirkhan/Desktop/notes/note/md-files2dir/andrej', '/Users/tanvirkhan/Desktop/notes/note/md-files2dir/andrej/technical/testing', '/Users/tanvirkhan/Desktop/notes/note/md-files2dir/routine', '/Users/tanvirkhan/Desktop/notes/note/md-files2dir/3', '/Users/tanvirkhan/Desktop/notes/note/md-files2dir/andrej', '/Users/tanvirkhan/Desktop/notes/note/md-files2dir/andrej', '/Users/tanvirkhan/Desktop/notes/note/md-files2dir/andrej/technical', '/Users/tanvirkhan/Desktop/notes/note/md-files2dir/4th aug, 2023', '/Users/tanvirkhan/Desktop/notes/note/md-files2dir/8', '/Users/tanvirkhan/Desktop/notes/note/md-files2dir/8/aug']\n",
      "/Users/tanvirkhan/Desktop/notes/note/md-files2dir/routine\n",
      "duplicate found\n",
      "removing duplicate\n",
      "['/Users/tanvirkhan/Desktop/notes/note/md-files2dir/andrej', '/Users/tanvirkhan/Desktop/notes/note/md-files2dir/andrej/technical/history', '/Users/tanvirkhan/Desktop/notes/note/md-files2dir/mind', '/Users/tanvirkhan/Desktop/notes/note/md-files2dir/stand', '/Users/tanvirkhan/Desktop/notes/note/md-files2dir/things', '/Users/tanvirkhan/Desktop/notes/note/md-files2dir/git', '/Users/tanvirkhan/Desktop/notes/note/md-files2dir/geohot/cs', '/Users/tanvirkhan/Desktop/notes/note/md-files2dir/andrej', '/Users/tanvirkhan/Desktop/notes/note/md-files2dir/andrej/technical/testing', '/Users/tanvirkhan/Desktop/notes/note/md-files2dir/3', '/Users/tanvirkhan/Desktop/notes/note/md-files2dir/andrej', '/Users/tanvirkhan/Desktop/notes/note/md-files2dir/andrej', '/Users/tanvirkhan/Desktop/notes/note/md-files2dir/andrej/technical', '/Users/tanvirkhan/Desktop/notes/note/md-files2dir/4th aug, 2023', '/Users/tanvirkhan/Desktop/notes/note/md-files2dir/8', '/Users/tanvirkhan/Desktop/notes/note/md-files2dir/8/aug']\n",
      "/Users/tanvirkhan/Desktop/notes/note/md-files2dir/andrej\n",
      "duplicate found\n",
      "removing duplicate\n",
      "['/Users/tanvirkhan/Desktop/notes/note/md-files2dir/andrej/technical/history', '/Users/tanvirkhan/Desktop/notes/note/md-files2dir/mind', '/Users/tanvirkhan/Desktop/notes/note/md-files2dir/stand', '/Users/tanvirkhan/Desktop/notes/note/md-files2dir/things', '/Users/tanvirkhan/Desktop/notes/note/md-files2dir/git', '/Users/tanvirkhan/Desktop/notes/note/md-files2dir/geohot/cs', '/Users/tanvirkhan/Desktop/notes/note/md-files2dir/andrej', '/Users/tanvirkhan/Desktop/notes/note/md-files2dir/andrej/technical/testing', '/Users/tanvirkhan/Desktop/notes/note/md-files2dir/3', '/Users/tanvirkhan/Desktop/notes/note/md-files2dir/andrej', '/Users/tanvirkhan/Desktop/notes/note/md-files2dir/andrej', '/Users/tanvirkhan/Desktop/notes/note/md-files2dir/andrej/technical', '/Users/tanvirkhan/Desktop/notes/note/md-files2dir/4th aug, 2023', '/Users/tanvirkhan/Desktop/notes/note/md-files2dir/8', '/Users/tanvirkhan/Desktop/notes/note/md-files2dir/8/aug']\n",
      "/Users/tanvirkhan/Desktop/notes/note/md-files2dir/andrej/technical\n",
      "duplicate found\n",
      "removing duplicate\n",
      "['/Users/tanvirkhan/Desktop/notes/note/md-files2dir/andrej/technical/history', '/Users/tanvirkhan/Desktop/notes/note/md-files2dir/mind', '/Users/tanvirkhan/Desktop/notes/note/md-files2dir/stand', '/Users/tanvirkhan/Desktop/notes/note/md-files2dir/things', '/Users/tanvirkhan/Desktop/notes/note/md-files2dir/git', '/Users/tanvirkhan/Desktop/notes/note/md-files2dir/geohot/cs', '/Users/tanvirkhan/Desktop/notes/note/md-files2dir/andrej', '/Users/tanvirkhan/Desktop/notes/note/md-files2dir/andrej/technical/testing', '/Users/tanvirkhan/Desktop/notes/note/md-files2dir/3', '/Users/tanvirkhan/Desktop/notes/note/md-files2dir/andrej', '/Users/tanvirkhan/Desktop/notes/note/md-files2dir/andrej', '/Users/tanvirkhan/Desktop/notes/note/md-files2dir/4th aug, 2023', '/Users/tanvirkhan/Desktop/notes/note/md-files2dir/8', '/Users/tanvirkhan/Desktop/notes/note/md-files2dir/8/aug']\n",
      "/Users/tanvirkhan/Desktop/notes/note/md-files2dir/8\n",
      "duplicate found\n",
      "removing duplicate\n",
      "['/Users/tanvirkhan/Desktop/notes/note/md-files2dir/andrej/technical/history', '/Users/tanvirkhan/Desktop/notes/note/md-files2dir/mind', '/Users/tanvirkhan/Desktop/notes/note/md-files2dir/stand', '/Users/tanvirkhan/Desktop/notes/note/md-files2dir/things', '/Users/tanvirkhan/Desktop/notes/note/md-files2dir/git', '/Users/tanvirkhan/Desktop/notes/note/md-files2dir/geohot/cs', '/Users/tanvirkhan/Desktop/notes/note/md-files2dir/andrej', '/Users/tanvirkhan/Desktop/notes/note/md-files2dir/andrej/technical/testing', '/Users/tanvirkhan/Desktop/notes/note/md-files2dir/3', '/Users/tanvirkhan/Desktop/notes/note/md-files2dir/andrej', '/Users/tanvirkhan/Desktop/notes/note/md-files2dir/andrej', '/Users/tanvirkhan/Desktop/notes/note/md-files2dir/4th aug, 2023', '/Users/tanvirkhan/Desktop/notes/note/md-files2dir/8/aug']\n"
     ]
    }
   ],
   "source": [
    "# check if there is duplicate in the total_dir_list\n",
    "for file in total_dir_list:\n",
    "    if file in total_dir_list:\n",
    "        print(file)\n",
    "        print(\"duplicate found\")\n",
    "        print(\"removing duplicate\")\n",
    "        total_dir_list.remove(file)\n",
    "        print(total_dir_list)\n",
    "    else:\n",
    "        print(\"no duplicate found\")\n",
    "        print(total_dir_list)"
   ]
  },
  {
   "cell_type": "code",
   "execution_count": 57,
   "metadata": {},
   "outputs": [
    {
     "data": {
      "text/plain": [
       "26"
      ]
     },
     "execution_count": 57,
     "metadata": {},
     "output_type": "execute_result"
    }
   ],
   "source": [
    "len(total_dir_list)"
   ]
  }
 ],
 "metadata": {
  "kernelspec": {
   "display_name": "Python 3",
   "language": "python",
   "name": "python3"
  },
  "language_info": {
   "codemirror_mode": {
    "name": "ipython",
    "version": 3
   },
   "file_extension": ".py",
   "mimetype": "text/x-python",
   "name": "python",
   "nbconvert_exporter": "python",
   "pygments_lexer": "ipython3",
   "version": "3.10.12"
  },
  "orig_nbformat": 4
 },
 "nbformat": 4,
 "nbformat_minor": 2
}
